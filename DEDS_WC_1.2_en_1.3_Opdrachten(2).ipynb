{
 "cells": [
  {
   "cell_type": "markdown",
   "metadata": {},
   "source": [
    "# Werkcollege-opdrachten Week 1.3"
   ]
  },
  {
   "cell_type": "markdown",
   "metadata": {},
   "source": [
    "## Dependencies importeren"
   ]
  },
  {
   "cell_type": "markdown",
   "metadata": {},
   "source": [
    "Kopieer in het codeblok hieronder van het vorige practicum de import-code voor de dependencies die het vaakst worden gebruikt om data in te lezen. Geef er ook de gebruikelijke aliassen aan.<br>\n",
    "Zet eventuele warnings uit."
   ]
  },
  {
   "cell_type": "code",
   "execution_count": 477,
   "metadata": {},
   "outputs": [],
   "source": [
    "import pandas as pd\n",
    "import sqlite3 as sql\n",
    "import numpy as np\n",
    "import warnings\n",
    "warnings.simplefilter(\"ignore\")"
   ]
  },
  {
   "cell_type": "markdown",
   "metadata": {},
   "source": [
    "Zet het bestand go_sales_train.sqlite in een makkelijk te vinden map"
   ]
  },
  {
   "cell_type": "markdown",
   "metadata": {},
   "source": [
    "## Databasetabellen inlezen"
   ]
  },
  {
   "cell_type": "markdown",
   "metadata": {},
   "source": [
    "Kopieer in het codeblok hieronder van het vorige practicum de code om een connectie met het bestand go_sales_train.sqlite te maken."
   ]
  },
  {
   "cell_type": "code",
   "execution_count": 478,
   "metadata": {},
   "outputs": [],
   "source": [
    "sales_conn = sql.connect(\"go_sales_train.sqlite\")"
   ]
  },
  {
   "cell_type": "markdown",
   "metadata": {},
   "source": [
    "Lees van de ingelezen go_sales_train-database te volgende tabellen in met behulp van \"SELECT * FROM *tabel*\".\n",
    "- product\n",
    "- product_type\n",
    "- product_line\n",
    "- sales_staff\n",
    "- sales_branch\n",
    "- retailer_site\n",
    "- country\n",
    "- order_header\n",
    "- order_details\n",
    "- returned_item\n",
    "- return_reason"
   ]
  },
  {
   "cell_type": "code",
   "execution_count": null,
   "metadata": {},
   "outputs": [],
   "source": [
    "product = pd.read_sql(\"Select * from product\", sales_conn)\n",
    "product_type = pd.read_sql(\"Select * from product_type\", sales_conn)\n",
    "product_line = pd.read_sql(\"Select * from product_line\", sales_conn)\n",
    "sales_staff = pd.read_sql(\"Select * from sales_staff\", sales_conn)\n",
    "sales_branch = pd.read_sql(\"Select * from sales_branch\", sales_conn)\n",
    "retailer_site = pd.read_sql(\"Select * from retailer_site\", sales_conn)\n",
    "country = pd.read_sql(\"Select * from country\", sales_conn)\n",
    "order_header = pd.read_sql(\"Select * from order_header\", sales_conn)\n",
    "order_details = pd.read_sql(\"Select * from order_details\", sales_conn)\n",
    "returned_item = pd.read_sql(\"Select * from returned_item\", sales_conn)\n",
    "return_reason = pd.read_sql(\"Select * from return_reason\", sales_conn)\n"
   ]
  },
  {
   "cell_type": "markdown",
   "metadata": {},
   "source": [
    "Krijg je een \"no such table\" error? Dan heb je misschien met .connect() per ongeluk een leeg  databasebestand (.sqlite) aangemaakt. <u>Let op:</u> lees eventueel de informatie uit het Notebook van werkcollege 1.1b nog eens goed door."
   ]
  },
  {
   "cell_type": "markdown",
   "metadata": {},
   "source": [
    "Als je tijdens onderstaande opdrachten uit het oog verliest welke tabellen er allemaal zijn, kan je deze Pythoncode uitvoeren:"
   ]
  },
  {
   "cell_type": "code",
   "execution_count": 480,
   "metadata": {},
   "outputs": [
    {
     "data": {
      "text/html": [
       "<div>\n",
       "<style scoped>\n",
       "    .dataframe tbody tr th:only-of-type {\n",
       "        vertical-align: middle;\n",
       "    }\n",
       "\n",
       "    .dataframe tbody tr th {\n",
       "        vertical-align: top;\n",
       "    }\n",
       "\n",
       "    .dataframe thead th {\n",
       "        text-align: right;\n",
       "    }\n",
       "</style>\n",
       "<table border=\"1\" class=\"dataframe\">\n",
       "  <thead>\n",
       "    <tr style=\"text-align: right;\">\n",
       "      <th></th>\n",
       "      <th>COUNTRY_CODE</th>\n",
       "      <th>COUNTRY</th>\n",
       "      <th>LANGUAGE</th>\n",
       "      <th>CURRENCY_NAME</th>\n",
       "    </tr>\n",
       "  </thead>\n",
       "  <tbody>\n",
       "    <tr>\n",
       "      <th>0</th>\n",
       "      <td>1</td>\n",
       "      <td>France</td>\n",
       "      <td>EN</td>\n",
       "      <td>francs</td>\n",
       "    </tr>\n",
       "    <tr>\n",
       "      <th>1</th>\n",
       "      <td>2</td>\n",
       "      <td>Germany</td>\n",
       "      <td>EN</td>\n",
       "      <td>marks</td>\n",
       "    </tr>\n",
       "    <tr>\n",
       "      <th>2</th>\n",
       "      <td>3</td>\n",
       "      <td>United States</td>\n",
       "      <td>EN</td>\n",
       "      <td>dollars</td>\n",
       "    </tr>\n",
       "    <tr>\n",
       "      <th>3</th>\n",
       "      <td>4</td>\n",
       "      <td>Canada</td>\n",
       "      <td>EN</td>\n",
       "      <td>dollars</td>\n",
       "    </tr>\n",
       "    <tr>\n",
       "      <th>4</th>\n",
       "      <td>5</td>\n",
       "      <td>Austria</td>\n",
       "      <td>EN</td>\n",
       "      <td>schillings</td>\n",
       "    </tr>\n",
       "    <tr>\n",
       "      <th>5</th>\n",
       "      <td>6</td>\n",
       "      <td>Italy</td>\n",
       "      <td>EN</td>\n",
       "      <td>lira</td>\n",
       "    </tr>\n",
       "    <tr>\n",
       "      <th>6</th>\n",
       "      <td>7</td>\n",
       "      <td>Netherlands</td>\n",
       "      <td>EN</td>\n",
       "      <td>guilders</td>\n",
       "    </tr>\n",
       "    <tr>\n",
       "      <th>7</th>\n",
       "      <td>8</td>\n",
       "      <td>Switzerland</td>\n",
       "      <td>EN</td>\n",
       "      <td>francs</td>\n",
       "    </tr>\n",
       "    <tr>\n",
       "      <th>8</th>\n",
       "      <td>9</td>\n",
       "      <td>United Kingdom</td>\n",
       "      <td>EN</td>\n",
       "      <td>pounds</td>\n",
       "    </tr>\n",
       "    <tr>\n",
       "      <th>9</th>\n",
       "      <td>10</td>\n",
       "      <td>Sweden</td>\n",
       "      <td>EN</td>\n",
       "      <td>krona</td>\n",
       "    </tr>\n",
       "    <tr>\n",
       "      <th>10</th>\n",
       "      <td>11</td>\n",
       "      <td>Japan</td>\n",
       "      <td>EN</td>\n",
       "      <td>yen</td>\n",
       "    </tr>\n",
       "    <tr>\n",
       "      <th>11</th>\n",
       "      <td>12</td>\n",
       "      <td>Taiwan</td>\n",
       "      <td>EN</td>\n",
       "      <td>new dollar</td>\n",
       "    </tr>\n",
       "    <tr>\n",
       "      <th>12</th>\n",
       "      <td>13</td>\n",
       "      <td>Korea</td>\n",
       "      <td>EN</td>\n",
       "      <td>won</td>\n",
       "    </tr>\n",
       "    <tr>\n",
       "      <th>13</th>\n",
       "      <td>14</td>\n",
       "      <td>China</td>\n",
       "      <td>EN</td>\n",
       "      <td>renminbi</td>\n",
       "    </tr>\n",
       "    <tr>\n",
       "      <th>14</th>\n",
       "      <td>16</td>\n",
       "      <td>Australia</td>\n",
       "      <td>EN</td>\n",
       "      <td>dollars</td>\n",
       "    </tr>\n",
       "    <tr>\n",
       "      <th>15</th>\n",
       "      <td>17</td>\n",
       "      <td>Belgium</td>\n",
       "      <td>EN</td>\n",
       "      <td>francs</td>\n",
       "    </tr>\n",
       "    <tr>\n",
       "      <th>16</th>\n",
       "      <td>18</td>\n",
       "      <td>Denmark</td>\n",
       "      <td>EN</td>\n",
       "      <td>kroner</td>\n",
       "    </tr>\n",
       "    <tr>\n",
       "      <th>17</th>\n",
       "      <td>19</td>\n",
       "      <td>Spain</td>\n",
       "      <td>EN</td>\n",
       "      <td>pesetas</td>\n",
       "    </tr>\n",
       "    <tr>\n",
       "      <th>18</th>\n",
       "      <td>20</td>\n",
       "      <td>Mexico</td>\n",
       "      <td>EN</td>\n",
       "      <td>pesos</td>\n",
       "    </tr>\n",
       "    <tr>\n",
       "      <th>19</th>\n",
       "      <td>21</td>\n",
       "      <td>Brazil</td>\n",
       "      <td>EN</td>\n",
       "      <td>reals</td>\n",
       "    </tr>\n",
       "    <tr>\n",
       "      <th>20</th>\n",
       "      <td>22</td>\n",
       "      <td>Finland</td>\n",
       "      <td>EN</td>\n",
       "      <td>markka</td>\n",
       "    </tr>\n",
       "  </tbody>\n",
       "</table>\n",
       "</div>"
      ],
      "text/plain": [
       "    COUNTRY_CODE         COUNTRY LANGUAGE CURRENCY_NAME\n",
       "0              1          France       EN        francs\n",
       "1              2         Germany       EN         marks\n",
       "2              3   United States       EN       dollars\n",
       "3              4          Canada       EN       dollars\n",
       "4              5         Austria       EN    schillings\n",
       "5              6           Italy       EN          lira\n",
       "6              7     Netherlands       EN      guilders\n",
       "7              8     Switzerland       EN        francs\n",
       "8              9  United Kingdom       EN        pounds\n",
       "9             10          Sweden       EN         krona\n",
       "10            11           Japan       EN           yen\n",
       "11            12          Taiwan       EN    new dollar\n",
       "12            13           Korea       EN           won\n",
       "13            14           China       EN      renminbi\n",
       "14            16       Australia       EN       dollars\n",
       "15            17         Belgium       EN        francs\n",
       "16            18         Denmark       EN        kroner\n",
       "17            19           Spain       EN       pesetas\n",
       "18            20          Mexico       EN         pesos\n",
       "19            21          Brazil       EN         reals\n",
       "20            22         Finland       EN        markka"
      ]
     },
     "execution_count": 480,
     "metadata": {},
     "output_type": "execute_result"
    }
   ],
   "source": [
    "country"
   ]
  },
  {
   "cell_type": "markdown",
   "metadata": {},
   "source": [
    "erachter "
   ]
  },
  {
   "cell_type": "markdown",
   "metadata": {},
   "source": [
    "Let op! Voor alle onderstaande opdrachten mag je <u>alleen Python</u> gebruiken, <u>geen SQL!</u>"
   ]
  },
  {
   "cell_type": "markdown",
   "metadata": {},
   "source": [
    "## Selecties op één tabel zonder functies"
   ]
  },
  {
   "cell_type": "markdown",
   "metadata": {},
   "source": [
    "Geef een overzicht met daarin de producten en hun productiekosten waarvan de productiekosten lager dan 100 dollar en hoger dan 50 dollar ligt. (2 kolommen, 23 rijen)"
   ]
  },
  {
   "cell_type": "code",
   "execution_count": 481,
   "metadata": {},
   "outputs": [],
   "source": [
    "filterd_prodcutionCost = product.loc[(product['PRODUCTION_COST'] > 50) & (product['PRODUCTION_COST'] < 100), ['PRODUCT_NUMBER', \"PRODUCTION_COST\"]].reset_index(drop=True)\n"
   ]
  },
  {
   "cell_type": "markdown",
   "metadata": {},
   "source": [
    "Geef een overzicht met daarin de producten en hun marge waarvan de marge lager dan 20 % of hoger dan 60 % ligt. (2 kolommen, 7 rijen) "
   ]
  },
  {
   "cell_type": "code",
   "execution_count": 482,
   "metadata": {},
   "outputs": [],
   "source": [
    "filterd_ProductMarge = product.loc[(product['MARGIN'] < 0.20) | (product['MARGIN'] > 0.60), ['PRODUCT_NUMBER', 'MARGIN']].reset_index(drop=True)\n"
   ]
  },
  {
   "cell_type": "markdown",
   "metadata": {},
   "source": [
    "Geef een overzicht met daarin de landen waar met francs wordt betaald. Sorteer de uitkomst op land.  (1 kolom, 3 rijen)"
   ]
  },
  {
   "cell_type": "code",
   "execution_count": 483,
   "metadata": {},
   "outputs": [],
   "source": [
    "filtered_Currency = country.loc[country['CURRENCY_NAME'] == 'francs', ['COUNTRY', 'CURRENCY_NAME']]\n"
   ]
  },
  {
   "cell_type": "markdown",
   "metadata": {},
   "source": [
    "Geef een overzicht met daarin de verschillende introductiedatums waarop producten met meer dan 50% marge worden geïntroduceerd (1 kolom, 7 rijen) "
   ]
  },
  {
   "cell_type": "code",
   "execution_count": 484,
   "metadata": {},
   "outputs": [],
   "source": [
    "filterd_IntropductieDatums = product.loc[(product)['MARGIN'] > 0.50, ['INTRODUCTION_DATE']].drop_duplicates()\n"
   ]
  },
  {
   "cell_type": "markdown",
   "metadata": {},
   "source": [
    "Geef een overzicht met daarin het eerste adres en de stad van verkoopafdelingen waarvan zowel het tweede adres als de regio bekend is (2 kolommen, 7 rijen)"
   ]
  },
  {
   "cell_type": "code",
   "execution_count": 485,
   "metadata": {},
   "outputs": [],
   "source": [
    "filterd_VerkoopAfdeling = sales_branch.loc[(sales_branch['ADDRESS2'].notna())  & (sales_branch['REGION'].notna()), ['ADDRESS1', 'CITY']]\n"
   ]
  },
  {
   "cell_type": "markdown",
   "metadata": {},
   "source": [
    "Geef een overzicht met daarin de landen waar met dollars (dollars of new dollar) wordt betaald. Sorteer de uitkomst op land. (1 kolom, 4 rijen) "
   ]
  },
  {
   "cell_type": "code",
   "execution_count": 486,
   "metadata": {},
   "outputs": [],
   "source": [
    "filterd_Landen = country.loc[(country['CURRENCY_NAME'] == 'dollars') | (country ['CURRENCY_NAME'] == 'new dollar'), ['COUNTRY', 'CURRENCY_NAME']]"
   ]
  },
  {
   "cell_type": "markdown",
   "metadata": {},
   "source": [
    "Geef een overzicht met daarin beide adressen en de stad van vestigingen van klanten waarvan de postcode begint met een ‘D’ (van duitsland). Filter op vestigingen die een tweede adres hebben. (3 kolommen, 2 rijen) "
   ]
  },
  {
   "cell_type": "code",
   "execution_count": 487,
   "metadata": {},
   "outputs": [],
   "source": [
    "filterd_postCode = retailer_site.loc[(retailer_site ['POSTAL_ZONE'].str.startswith('D', na=False)) & (retailer_site['ADDRESS2'].notna()), \n",
    "                                     ['ADDRESS1', 'ADDRESS2','CITY', 'POSTAL_ZONE']]"
   ]
  },
  {
   "cell_type": "markdown",
   "metadata": {},
   "source": [
    "## Selecties op één tabel met functies"
   ]
  },
  {
   "cell_type": "markdown",
   "metadata": {},
   "source": [
    "Geef het totaal aantal producten dat is teruggebracht (1 waarde) "
   ]
  },
  {
   "cell_type": "code",
   "execution_count": 488,
   "metadata": {},
   "outputs": [
    {
     "name": "stdout",
     "output_type": "stream",
     "text": [
      "11908\n"
     ]
    }
   ],
   "source": [
    "TeruggebrachteProducten = returned_item['RETURN_QUANTITY'].sum()\n",
    "print(TeruggebrachteProducten)"
   ]
  },
  {
   "cell_type": "markdown",
   "metadata": {},
   "source": [
    "Geef het aantal regio’s waarin verkoopafdelingen gevestigd zijn. (1 waarde)"
   ]
  },
  {
   "cell_type": "code",
   "execution_count": 489,
   "metadata": {},
   "outputs": [
    {
     "name": "stdout",
     "output_type": "stream",
     "text": [
      "15\n"
     ]
    }
   ],
   "source": [
    "VerkoopAfdelingRegio = sales_branch['REGION'].nunique()\n",
    "print(VerkoopAfdelingRegio)"
   ]
  },
  {
   "cell_type": "markdown",
   "metadata": {},
   "source": [
    "Maak 3 variabelen:\n",
    "- Een met de laagste\n",
    "- Een met de hoogste\n",
    "- Een met de gemiddelde (afgerond op 2 decimalen)\n",
    "\n",
    "marge van producten (3 kolommen, 1 rij) "
   ]
  },
  {
   "cell_type": "code",
   "execution_count": 490,
   "metadata": {},
   "outputs": [
    {
     "data": {
      "text/html": [
       "<div>\n",
       "<style scoped>\n",
       "    .dataframe tbody tr th:only-of-type {\n",
       "        vertical-align: middle;\n",
       "    }\n",
       "\n",
       "    .dataframe tbody tr th {\n",
       "        vertical-align: top;\n",
       "    }\n",
       "\n",
       "    .dataframe thead th {\n",
       "        text-align: right;\n",
       "    }\n",
       "</style>\n",
       "<table border=\"1\" class=\"dataframe\">\n",
       "  <thead>\n",
       "    <tr style=\"text-align: right;\">\n",
       "      <th></th>\n",
       "      <th>LaagsteMarge</th>\n",
       "      <th>HoogsteMarge</th>\n",
       "      <th>GemiddeldeMarge</th>\n",
       "    </tr>\n",
       "  </thead>\n",
       "  <tbody>\n",
       "    <tr>\n",
       "      <th>0</th>\n",
       "      <td>0.17</td>\n",
       "      <td>0.7</td>\n",
       "      <td>0.4</td>\n",
       "    </tr>\n",
       "  </tbody>\n",
       "</table>\n",
       "</div>"
      ],
      "text/plain": [
       "   LaagsteMarge  HoogsteMarge  GemiddeldeMarge\n",
       "0          0.17           0.7              0.4"
      ]
     },
     "execution_count": 490,
     "metadata": {},
     "output_type": "execute_result"
    }
   ],
   "source": [
    "LaagsteMarge = product['MARGIN'].min()\n",
    "\n",
    "HoogsteMarge = product['MARGIN'].max()\n",
    "\n",
    "GemiddeldeMarge = product['MARGIN'].mean().round(2)\n",
    "\n",
    "MergingVanMarges = pd.DataFrame({\n",
    "    'LaagsteMarge': [LaagsteMarge],\n",
    "    'HoogsteMarge': [HoogsteMarge],\n",
    "    'GemiddeldeMarge': [GemiddeldeMarge]\n",
    "})\n",
    "\n",
    "MergingVanMarges"
   ]
  },
  {
   "cell_type": "markdown",
   "metadata": {},
   "source": [
    "Geef het aantal vestigingen van klanten waarvan het 2e adres niet bekend is (1 waarde)"
   ]
  },
  {
   "cell_type": "code",
   "execution_count": 491,
   "metadata": {},
   "outputs": [
    {
     "name": "stdout",
     "output_type": "stream",
     "text": [
      "19\n"
     ]
    }
   ],
   "source": [
    "VestigingKlantenZonderTweedeAddress = sales_branch['ADDRESS2'].isna().sum()\n",
    "print(VestigingKlantenZonderTweedeAddress)"
   ]
  },
  {
   "cell_type": "markdown",
   "metadata": {},
   "source": [
    "Geef de gemiddelde kostprijs van de verkochte producten waarop korting (unit_sale_price < unit_price) is verleend (1 waarde) "
   ]
  },
  {
   "cell_type": "code",
   "execution_count": 492,
   "metadata": {},
   "outputs": [
    {
     "name": "stdout",
     "output_type": "stream",
     "text": [
      "204.99\n"
     ]
    }
   ],
   "source": [
    "KostprijsWaaropKortingIsVerleend = order_details['UNIT_SALE_PRICE'] < order_details['UNIT_PRICE']\n",
    "gemiddeldeKostPrijs = order_details.loc[KostprijsWaaropKortingIsVerleend, 'UNIT_PRICE'].mean().round(2)\n",
    "print(gemiddeldeKostPrijs)"
   ]
  },
  {
   "cell_type": "markdown",
   "metadata": {},
   "source": [
    "Geef een overzicht met daarin het aantal medewerkers per medewerkersfunctie (2 kolommen, 7 rijen) "
   ]
  },
  {
   "cell_type": "code",
   "execution_count": 493,
   "metadata": {},
   "outputs": [
    {
     "data": {
      "text/html": [
       "<div>\n",
       "<style scoped>\n",
       "    .dataframe tbody tr th:only-of-type {\n",
       "        vertical-align: middle;\n",
       "    }\n",
       "\n",
       "    .dataframe tbody tr th {\n",
       "        vertical-align: top;\n",
       "    }\n",
       "\n",
       "    .dataframe thead th {\n",
       "        text-align: right;\n",
       "    }\n",
       "</style>\n",
       "<table border=\"1\" class=\"dataframe\">\n",
       "  <thead>\n",
       "    <tr style=\"text-align: right;\">\n",
       "      <th></th>\n",
       "      <th>POSITION_EN</th>\n",
       "      <th>SALES_STAFF_CODE</th>\n",
       "    </tr>\n",
       "  </thead>\n",
       "  <tbody>\n",
       "    <tr>\n",
       "      <th>0</th>\n",
       "      <td>Branch Manager</td>\n",
       "      <td>19</td>\n",
       "    </tr>\n",
       "    <tr>\n",
       "      <th>1</th>\n",
       "      <td>District Manager</td>\n",
       "      <td>4</td>\n",
       "    </tr>\n",
       "    <tr>\n",
       "      <th>2</th>\n",
       "      <td>General Manager</td>\n",
       "      <td>1</td>\n",
       "    </tr>\n",
       "    <tr>\n",
       "      <th>3</th>\n",
       "      <td>Level 1 Sales Representative</td>\n",
       "      <td>13</td>\n",
       "    </tr>\n",
       "    <tr>\n",
       "      <th>4</th>\n",
       "      <td>Level 2 Sales Representative</td>\n",
       "      <td>39</td>\n",
       "    </tr>\n",
       "    <tr>\n",
       "      <th>5</th>\n",
       "      <td>Level 3 Sales Representative</td>\n",
       "      <td>24</td>\n",
       "    </tr>\n",
       "    <tr>\n",
       "      <th>6</th>\n",
       "      <td>Regional Manager</td>\n",
       "      <td>2</td>\n",
       "    </tr>\n",
       "  </tbody>\n",
       "</table>\n",
       "</div>"
      ],
      "text/plain": [
       "                    POSITION_EN  SALES_STAFF_CODE\n",
       "0                Branch Manager                19\n",
       "1              District Manager                 4\n",
       "2               General Manager                 1\n",
       "3  Level 1 Sales Representative                13\n",
       "4  Level 2 Sales Representative                39\n",
       "5  Level 3 Sales Representative                24\n",
       "6              Regional Manager                 2"
      ]
     },
     "execution_count": 493,
     "metadata": {},
     "output_type": "execute_result"
    }
   ],
   "source": [
    "MedewerkerEnMedewerkerFunctie = sales_staff.groupby('POSITION_EN').size().reset_index(name='SALES_STAFF_CODE')\n",
    "MedewerkerEnMedewerkerFunctie"
   ]
  },
  {
   "cell_type": "markdown",
   "metadata": {},
   "source": [
    "Geef een overzicht met daarin per telefoonnummer het aantal medewerkers dat op dat telefoonnummer bereikbaar is. Toon alleen de telefoonnummer waarop meer dan 4 medewerkers bereikbaar zijn. (2 kolommen, 10 rijen) "
   ]
  },
  {
   "cell_type": "code",
   "execution_count": 494,
   "metadata": {},
   "outputs": [
    {
     "data": {
      "text/html": [
       "<div>\n",
       "<style scoped>\n",
       "    .dataframe tbody tr th:only-of-type {\n",
       "        vertical-align: middle;\n",
       "    }\n",
       "\n",
       "    .dataframe tbody tr th {\n",
       "        vertical-align: top;\n",
       "    }\n",
       "\n",
       "    .dataframe thead th {\n",
       "        text-align: right;\n",
       "    }\n",
       "</style>\n",
       "<table border=\"1\" class=\"dataframe\">\n",
       "  <thead>\n",
       "    <tr style=\"text-align: right;\">\n",
       "      <th></th>\n",
       "      <th>WORK_PHONE</th>\n",
       "      <th>SALE_STAFF_CODE</th>\n",
       "    </tr>\n",
       "  </thead>\n",
       "  <tbody>\n",
       "    <tr>\n",
       "      <th>0</th>\n",
       "      <td>+(44) 121 3505267</td>\n",
       "      <td>5</td>\n",
       "    </tr>\n",
       "    <tr>\n",
       "      <th>1</th>\n",
       "      <td>+(61) 03 2982  4242</td>\n",
       "      <td>5</td>\n",
       "    </tr>\n",
       "    <tr>\n",
       "      <th>2</th>\n",
       "      <td>+31 (0)20 692 93 94</td>\n",
       "      <td>5</td>\n",
       "    </tr>\n",
       "    <tr>\n",
       "      <th>3</th>\n",
       "      <td>+33 1 68 94 52 20</td>\n",
       "      <td>5</td>\n",
       "    </tr>\n",
       "    <tr>\n",
       "      <th>4</th>\n",
       "      <td>1 (206) 292-0012</td>\n",
       "      <td>5</td>\n",
       "    </tr>\n",
       "    <tr>\n",
       "      <th>5</th>\n",
       "      <td>1 (305) 557-4810</td>\n",
       "      <td>6</td>\n",
       "    </tr>\n",
       "    <tr>\n",
       "      <th>6</th>\n",
       "      <td>1 (310) 281-5722</td>\n",
       "      <td>5</td>\n",
       "    </tr>\n",
       "    <tr>\n",
       "      <th>7</th>\n",
       "      <td>1 (403) 232-5986</td>\n",
       "      <td>5</td>\n",
       "    </tr>\n",
       "    <tr>\n",
       "      <th>8</th>\n",
       "      <td>1 (416) 493-5595</td>\n",
       "      <td>5</td>\n",
       "    </tr>\n",
       "    <tr>\n",
       "      <th>9</th>\n",
       "      <td>1 (617) 268-6754</td>\n",
       "      <td>6</td>\n",
       "    </tr>\n",
       "  </tbody>\n",
       "</table>\n",
       "</div>"
      ],
      "text/plain": [
       "            WORK_PHONE  SALE_STAFF_CODE\n",
       "0    +(44) 121 3505267                5\n",
       "1  +(61) 03 2982  4242                5\n",
       "2  +31 (0)20 692 93 94                5\n",
       "3    +33 1 68 94 52 20                5\n",
       "4     1 (206) 292-0012                5\n",
       "5     1 (305) 557-4810                6\n",
       "6     1 (310) 281-5722                5\n",
       "7     1 (403) 232-5986                5\n",
       "8     1 (416) 493-5595                5\n",
       "9     1 (617) 268-6754                6"
      ]
     },
     "execution_count": 494,
     "metadata": {},
     "output_type": "execute_result"
    }
   ],
   "source": [
    "TelefoonNummerVanMedewerkers = sales_staff.groupby('WORK_PHONE').size().reset_index(name='SALE_STAFF_CODE')\n",
    "TelefoonNummerVanMedewerkers = TelefoonNummerVanMedewerkers[TelefoonNummerVanMedewerkers['SALE_STAFF_CODE'] > 4].reset_index(drop=True)\n",
    "TelefoonNummerVanMedewerkers"
   ]
  },
  {
   "cell_type": "markdown",
   "metadata": {},
   "source": [
    "## Selecties op meerdere tabellen zonder functies"
   ]
  },
  {
   "cell_type": "markdown",
   "metadata": {},
   "source": [
    "Geef een overzicht met daarin het eerste adres en de stad van vestigingen van klanten uit ‘Netherlands’ (2 kolommen, 20 rijen) "
   ]
  },
  {
   "cell_type": "code",
   "execution_count": 495,
   "metadata": {},
   "outputs": [],
   "source": [
    "retailer_site_Country = retailer_site.merge(country, on='COUNTRY_CODE')\n",
    "VestigingKlantenUitNetherlands = retailer_site_Country.loc[retailer_site_Country['COUNTRY'] == 'Netherlands', ['ADDRESS1', 'CITY']].reset_index(drop=True)"
   ]
  },
  {
   "cell_type": "markdown",
   "metadata": {},
   "source": [
    "Geef een overzicht met daarin de productnamen die tot het producttype ‘Eyewear’ behoren. (1 kolom, 5 rijen) "
   ]
  },
  {
   "cell_type": "code",
   "execution_count": 496,
   "metadata": {},
   "outputs": [
    {
     "data": {
      "text/html": [
       "<div>\n",
       "<style scoped>\n",
       "    .dataframe tbody tr th:only-of-type {\n",
       "        vertical-align: middle;\n",
       "    }\n",
       "\n",
       "    .dataframe tbody tr th {\n",
       "        vertical-align: top;\n",
       "    }\n",
       "\n",
       "    .dataframe thead th {\n",
       "        text-align: right;\n",
       "    }\n",
       "</style>\n",
       "<table border=\"1\" class=\"dataframe\">\n",
       "  <thead>\n",
       "    <tr style=\"text-align: right;\">\n",
       "      <th></th>\n",
       "      <th>PRODUCT_TYPE_EN</th>\n",
       "    </tr>\n",
       "  </thead>\n",
       "  <tbody>\n",
       "    <tr>\n",
       "      <th>0</th>\n",
       "      <td>Eyewear</td>\n",
       "    </tr>\n",
       "    <tr>\n",
       "      <th>1</th>\n",
       "      <td>Eyewear</td>\n",
       "    </tr>\n",
       "    <tr>\n",
       "      <th>2</th>\n",
       "      <td>Eyewear</td>\n",
       "    </tr>\n",
       "    <tr>\n",
       "      <th>3</th>\n",
       "      <td>Eyewear</td>\n",
       "    </tr>\n",
       "    <tr>\n",
       "      <th>4</th>\n",
       "      <td>Eyewear</td>\n",
       "    </tr>\n",
       "  </tbody>\n",
       "</table>\n",
       "</div>"
      ],
      "text/plain": [
       "  PRODUCT_TYPE_EN\n",
       "0         Eyewear\n",
       "1         Eyewear\n",
       "2         Eyewear\n",
       "3         Eyewear\n",
       "4         Eyewear"
      ]
     },
     "execution_count": 496,
     "metadata": {},
     "output_type": "execute_result"
    }
   ],
   "source": [
    "ProductNamen_ProductType = product.merge(product_type, on='PRODUCT_TYPE_CODE')\n",
    "EyeWear_ProductType = ProductNamen_ProductType.loc[ProductNamen_ProductType['PRODUCT_TYPE_EN'] == 'Eyewear', ['PRODUCT_TYPE_EN']].reset_index(drop=True)\n",
    "EyeWear_ProductType"
   ]
  },
  {
   "cell_type": "markdown",
   "metadata": {},
   "source": [
    "Geef een overzicht met daarin alle unieke eerste adressen van klantvestigingen en de voornaam en achternaam van de verkopers die ‘Branch Manager’ zijn en aan deze vestigingen hebben verkocht (3 kolommen, 1 rij) "
   ]
  },
  {
   "cell_type": "code",
   "execution_count": 497,
   "metadata": {},
   "outputs": [
    {
     "data": {
      "text/html": [
       "<div>\n",
       "<style scoped>\n",
       "    .dataframe tbody tr th:only-of-type {\n",
       "        vertical-align: middle;\n",
       "    }\n",
       "\n",
       "    .dataframe tbody tr th {\n",
       "        vertical-align: top;\n",
       "    }\n",
       "\n",
       "    .dataframe thead th {\n",
       "        text-align: right;\n",
       "    }\n",
       "</style>\n",
       "<table border=\"1\" class=\"dataframe\">\n",
       "  <thead>\n",
       "    <tr style=\"text-align: right;\">\n",
       "      <th></th>\n",
       "      <th>ADDRESS1</th>\n",
       "      <th>FIRST_NAME</th>\n",
       "      <th>LAST_NAME</th>\n",
       "    </tr>\n",
       "  </thead>\n",
       "  <tbody>\n",
       "    <tr>\n",
       "      <th>3185</th>\n",
       "      <td>Avenida Paulista, 333</td>\n",
       "      <td>Bayard</td>\n",
       "      <td>Lopes</td>\n",
       "    </tr>\n",
       "  </tbody>\n",
       "</table>\n",
       "</div>"
      ],
      "text/plain": [
       "                   ADDRESS1 FIRST_NAME LAST_NAME\n",
       "3185  Avenida Paulista, 333     Bayard     Lopes"
      ]
     },
     "execution_count": 497,
     "metadata": {},
     "output_type": "execute_result"
    }
   ],
   "source": [
    "Sales_staff_sales_branch = sales_staff.merge(sales_branch, on=\"SALES_BRANCH_CODE\")\n",
    "sales_Staff_Order_header = order_header.merge(Sales_staff_sales_branch, on='SALES_STAFF_CODE')\n",
    "\n",
    "branch_managers = sales_Staff_Order_header[sales_Staff_Order_header['POSITION_EN'] == 'Branch Manager']\n",
    "\n",
    "verkopen_per_adres = branch_managers[['ADDRESS1', 'FIRST_NAME', 'LAST_NAME', 'ORDER_NUMBER']].drop_duplicates(subset=['ORDER_NUMBER'])\n",
    "\n",
    "resultaat = verkopen_per_adres[['ADDRESS1', 'FIRST_NAME', 'LAST_NAME']].drop_duplicates()\n",
    "\n",
    "resultaat\n",
    "\n"
   ]
  },
  {
   "cell_type": "markdown",
   "metadata": {},
   "source": [
    "Geef een overzicht met daarin van de verkopers hun functie en indien zij iets hebben verkocht de datum waarop de verkoop heeft plaatsgevonden. Laat alleen de verschillende namen van de posities zien van de verkopers die het woord ‘Manager’ in hun positienaam hebben staan. (2 kolommen, 7 rijen) "
   ]
  },
  {
   "cell_type": "code",
   "execution_count": 498,
   "metadata": {},
   "outputs": [
    {
     "data": {
      "text/html": [
       "<div>\n",
       "<style scoped>\n",
       "    .dataframe tbody tr th:only-of-type {\n",
       "        vertical-align: middle;\n",
       "    }\n",
       "\n",
       "    .dataframe tbody tr th {\n",
       "        vertical-align: top;\n",
       "    }\n",
       "\n",
       "    .dataframe thead th {\n",
       "        text-align: right;\n",
       "    }\n",
       "</style>\n",
       "<table border=\"1\" class=\"dataframe\">\n",
       "  <thead>\n",
       "    <tr style=\"text-align: right;\">\n",
       "      <th></th>\n",
       "      <th>POSITION_EN</th>\n",
       "      <th>ORDER_DATE</th>\n",
       "    </tr>\n",
       "  </thead>\n",
       "  <tbody>\n",
       "    <tr>\n",
       "      <th>0</th>\n",
       "      <td>Branch Manager</td>\n",
       "      <td>2022-04-03</td>\n",
       "    </tr>\n",
       "    <tr>\n",
       "      <th>1017</th>\n",
       "      <td>Regional Manager</td>\n",
       "      <td>2022-09-18</td>\n",
       "    </tr>\n",
       "    <tr>\n",
       "      <th>2164</th>\n",
       "      <td>District Manager</td>\n",
       "      <td>2022-10-12</td>\n",
       "    </tr>\n",
       "    <tr>\n",
       "      <th>17508</th>\n",
       "      <td>General Manager</td>\n",
       "      <td>2022-10-20</td>\n",
       "    </tr>\n",
       "  </tbody>\n",
       "</table>\n",
       "</div>"
      ],
      "text/plain": [
       "            POSITION_EN  ORDER_DATE\n",
       "0        Branch Manager  2022-04-03\n",
       "1017   Regional Manager  2022-09-18\n",
       "2164   District Manager  2022-10-12\n",
       "17508   General Manager  2022-10-20"
      ]
     },
     "execution_count": 498,
     "metadata": {},
     "output_type": "execute_result"
    }
   ],
   "source": [
    "order_header_Sales_Staff = sales_staff.merge(order_header, on='SALES_BRANCH_CODE')\n",
    "\n",
    "Verkoop_Managers = order_header_Sales_Staff[order_header_Sales_Staff['POSITION_EN'].str.contains('Manager', na=False)]\n",
    "\n",
    "Verkoop_Managers_Met_Verkoop = Verkoop_Managers.dropna(subset=['ORDER_NUMBER'])\n",
    "\n",
    "Unieke_Posities = Verkoop_Managers_Met_Verkoop.drop_duplicates(subset=['POSITION_EN'])\n",
    "\n",
    "\n",
    "Unieke_Posities3 = Unieke_Posities.dropna(subset=['ORDER_DATE'])\n",
    "\n",
    "Unieke_Posities4 = Unieke_Posities3[['POSITION_EN', 'ORDER_DATE']]\n",
    "\n",
    "Unieke_Posities4\n"
   ]
  },
  {
   "cell_type": "markdown",
   "metadata": {},
   "source": [
    "Geef een overzicht met daarin de verschillende namen van producten en bijbehorende namen van producttypen van de producten waarvoor ooit meer dan 750 stuks tegelijk verkocht zijn. (2 kolommen, 9 rijen) "
   ]
  },
  {
   "cell_type": "code",
   "execution_count": 499,
   "metadata": {},
   "outputs": [],
   "source": [
    "product_Merge_product_Type = product.merge(product_type, on= 'PRODUCT_TYPE_CODE')\n",
    "\n",
    "product_orders = product_Merge_product_Type.merge(order_details, on='PRODUCT_NUMBER')\n",
    "\n",
    "product_orders_filtered = product_orders[product_orders['QUANTITY'] > 750]\n",
    "\n",
    "Overzicht3 = product_orders_filtered[['PRODUCT_NAME', 'PRODUCT_TYPE_EN']].drop_duplicates()\n",
    "\n",
    "\n",
    "#Overzicht3\n",
    "\n",
    "\n"
   ]
  },
  {
   "cell_type": "markdown",
   "metadata": {},
   "source": [
    "Geef een overzicht met daarin de productnamen waarvan ooit meer dan 40% korting is verleend. De formule voor korting is: (unit_price - unit_sale_price) / unit_price (1 kolom, 8 rijen) "
   ]
  },
  {
   "cell_type": "code",
   "execution_count": 500,
   "metadata": {},
   "outputs": [],
   "source": [
    "order_details_Product = product.merge(order_details, on='PRODUCT_NUMBER')\n",
    "\n",
    "order_details_Product['DISCOUNT'] = (order_details_Product['UNIT_PRICE'] - order_details_Product['UNIT_SALE_PRICE']) / order_details_Product['UNIT_PRICE']\n",
    "\n",
    "Korting_40 = order_details_Product[order_details_Product['DISCOUNT'] > 0.40]\n",
    "\n",
    "OverzichtKorting = Korting_40[['PRODUCT_NAME']].drop_duplicates()\n",
    "\n",
    "#OverzichtKorting"
   ]
  },
  {
   "cell_type": "markdown",
   "metadata": {},
   "source": [
    "Geef een overzicht met daarin de retourreden van producten waarvan ooit meer dan 90% van de aangeschafte hoeveelheid is teruggebracht (return_quantity/quantity). (1 kolom, 3 rijen) "
   ]
  },
  {
   "cell_type": "code",
   "execution_count": 501,
   "metadata": {},
   "outputs": [],
   "source": [
    "Order_header_Return_Item = order_details.merge(returned_item, on='ORDER_DETAIL_CODE')\n",
    "Order_header_Return_Item = Order_header_Return_Item.merge(return_reason, on='RETURN_REASON_CODE')\n",
    "\n",
    "Order_header_Return_Item['Korting'] = (Order_header_Return_Item['RETURN_QUANTITY'] / Order_header_Return_Item['QUANTITY'])\n",
    "\n",
    "Korting_90 = Order_header_Return_Item[Order_header_Return_Item['Korting']> 0.90]\n",
    "\n",
    "ReturnItem = Korting_90[['RETURN_DESCRIPTION_EN']].drop_duplicates()\n",
    "\n",
    "#ReturnItem"
   ]
  },
  {
   "cell_type": "markdown",
   "metadata": {},
   "source": [
    "## Selecties op meerdere tabellen met functies"
   ]
  },
  {
   "cell_type": "markdown",
   "metadata": {},
   "source": [
    "Geef een overzicht met daarin per producttype het aantal producten die tot dat producttype behoren. (2 kolommen, 21 rijen) "
   ]
  },
  {
   "cell_type": "code",
   "execution_count": 502,
   "metadata": {},
   "outputs": [],
   "source": [
    "Merge_product_product_type = product.merge(product_type, on='PRODUCT_TYPE_CODE')\n",
    "\n",
    "Aatal_Producten_per_product_Type = Merge_product_product_type.groupby('PRODUCT_TYPE_EN')[\"PRODUCT_NUMBER\"].count()\n",
    "\n",
    "\n",
    "Aatal_Producten_per_product_Type = Aatal_Producten_per_product_Type.reset_index(name= 'Aantal Producten')\n",
    "\n",
    "#Aatal_Producten_per_product_Type\n",
    "\n"
   ]
  },
  {
   "cell_type": "markdown",
   "metadata": {},
   "source": [
    "Geef een overzicht met daarin per land het aantal vestigingen van klanten die zich in dat land bevinden. (2 kolommen, 21 rijen) "
   ]
  },
  {
   "cell_type": "code",
   "execution_count": 503,
   "metadata": {},
   "outputs": [],
   "source": [
    "Merge_Retailer_Country = retailer_site.merge(country, on='COUNTRY_CODE')\n",
    "\n",
    "Merge_Retailer_Country = Merge_Retailer_Country.groupby('COUNTRY')['RETAILER_CODE'].count()\n",
    "\n",
    "Merge_Retailer_Country = Merge_Retailer_Country.reset_index(name= 'Aantal Vestigingen')\n",
    "\n",
    "#Merge_Retailer_Country"
   ]
  },
  {
   "cell_type": "markdown",
   "metadata": {},
   "source": [
    "Geef een overzicht met daarin van de producten behorend tot het producttype ‘Cooking Gear’ per productnaam de totaal verkochte hoeveelheid en de gemiddelde verkoopprijs. Sorteer de uitkomst op totaal verkochte hoeveelheid. (4 kolommen, 10 rijen) "
   ]
  },
  {
   "cell_type": "code",
   "execution_count": 504,
   "metadata": {},
   "outputs": [],
   "source": [
    "Product_Merge_product_type = product.merge(product_type, on='PRODUCT_TYPE_CODE')\n",
    "Product_type_product_Merge_Order_detail = Product_Merge_product_type.merge(order_details, on='PRODUCT_NUMBER')\n",
    "\n",
    "CookingGear = Product_type_product_Merge_Order_detail[Product_type_product_Merge_Order_detail['PRODUCT_TYPE_EN'] == 'Cooking Gear']\n",
    "\n",
    "ProductEnProductType = CookingGear.groupby('PRODUCT_NAME').agg(\n",
    "    TOTAL_QUANTITY_VERKOCHT=('QUANTITY', 'sum'),\n",
    "    AVG_UNIT_PRICE=('UNIT_PRICE', 'mean'),\n",
    "    TOTAL_ORDER=('ORDER_NUMBER', 'count')\n",
    ").reset_index()\n",
    "\n",
    "\n",
    "#ProductEnProductType"
   ]
  },
  {
   "cell_type": "markdown",
   "metadata": {},
   "source": [
    "Geef een overzicht met daarin per land de naam van het land, de naam van de stad waar de verkoopafdeling is gevestigd (noem de kolomnaam in het overzicht ‘verkoper’) en het aantal steden waar zich klanten bevinden in dat land (noem de kolomnaam in het overzicht ‘klanten’) (3 kolommen, 29 rijen) "
   ]
  },
  {
   "cell_type": "code",
   "execution_count": 505,
   "metadata": {},
   "outputs": [],
   "source": [
    "SalesBranch_Country = sales_branch.merge(country, on='COUNTRY_CODE')\n",
    "SalesBranch_Country_SalesStaff = SalesBranch_Country.merge(sales_staff, on='SALES_BRANCH_CODE')\n",
    "\n",
    "SalesBranch_Country_SalesStaff = SalesBranch_Country.groupby('CITY')['COUNTRY_CODE'].count().reset_index()\n",
    "SalesBranch_Country_SalesStaff.rename(columns={'CITY': 'klanten', 'COUNTRY_CODE': 'Aantal_verkoopafdelingen'}, inplace=True)\n",
    "\n",
    "\n",
    "#SalesBranch_Country_SalesStaff\n",
    "\n"
   ]
  },
  {
   "cell_type": "markdown",
   "metadata": {},
   "source": [
    "## Pythonvertalingen van SUBSELECT en UNION met o.a. for-loops"
   ]
  },
  {
   "cell_type": "markdown",
   "metadata": {},
   "source": [
    "Geef een overzicht met daarin de voornaam en de achternaam van de medewerkers die nog nooit wat hebben verkocht (2 kolommen, 25 rijen) "
   ]
  },
  {
   "cell_type": "code",
   "execution_count": 506,
   "metadata": {},
   "outputs": [],
   "source": [
    "#OrderHeader_SalesStaff = sales_staff.merge(order_header, on='SALES_STAFF_CODE')\n",
    "#Verkoop_Medewerkers = order_header['SALES_STAFF_CODE'].unique()\n",
    "#NietVerkocht = sales_staff[~sales_staff['SALES_STAFF_CODE'].isin(Verkoop_Medewerkers)]\n",
    "#resultaat = NietVerkocht[['FIRST_NAME','LAST_NAME']].dropna()\n",
    "#resultaat\n",
    "\n",
    "#merged = sales_staff.merge(order_header, on='SALES_STAFF_CODE', how='left')\n",
    "#niet_Verkocht = merged[merged['ORDER_NUMBER'].isna()][['FIRST_NAME', 'LAST_NAME']].reset_index()\n",
    "#niet_Verkocht\n",
    "\n",
    "Verkoop_Medewerkers = set(order_header['SALES_STAFF_CODE'])\n",
    "Niet_Verkocht = []\n",
    "for _, row in sales_staff.iterrows():\n",
    "    if row['SALES_STAFF_CODE'] not in Verkoop_Medewerkers: \n",
    "        Niet_Verkocht.append((row ['FIRST_NAME'], row['LAST_NAME']))\n",
    "\n",
    "df_Niet_Verkocht = pd.DataFrame(Niet_Verkocht, columns=['FIRST_NAME', 'LAST_NAME'])\n",
    "#df_Niet_Verkocht\n"
   ]
  },
  {
   "cell_type": "markdown",
   "metadata": {},
   "source": [
    "Geef een overzicht met daarin het aantal producten waarvan de marge lager is dan de gemiddelde marge van alle producten samen. Geef in het overzicht tevens aan wat de gemiddelde marge is van dit aantal producten waarvan de marge lager dan de gemiddelde marge van alle producten samen is. (1 kolom, 2 rijen) "
   ]
  },
  {
   "cell_type": "code",
   "execution_count": 507,
   "metadata": {},
   "outputs": [],
   "source": [
    "Gemiddlede_Marge = product['MARGIN'].mean()\n",
    "\n",
    "Lagere_MARGE_PRODUCTEN = product[product['MARGIN'] < Gemiddlede_Marge]\n",
    "\n",
    "\n",
    "aantal_producten = len(Lagere_MARGE_PRODUCTEN)\n",
    "\n",
    "Gemiddlede_Marge = Lagere_MARGE_PRODUCTEN['MARGIN'].mean()\n",
    "\n",
    "Resultaal22 = pd.DataFrame({\n",
    "    'Waarde' : [aantal_producten, Gemiddlede_Marge]\n",
    "}, index=['Aantal Producten', 'Gemiddelde marge'])\n",
    "#Resultaal22\n"
   ]
  },
  {
   "cell_type": "markdown",
   "metadata": {},
   "source": [
    "Geef een overzicht met daarin de namen van de producten die voor meer dan 500 (verkoopprijs) zijn verkocht maar nooit zijn teruggebracht. (1 kolom, 13 rijen) "
   ]
  },
  {
   "cell_type": "code",
   "execution_count": 508,
   "metadata": {},
   "outputs": [
    {
     "data": {
      "text/html": [
       "<div>\n",
       "<style scoped>\n",
       "    .dataframe tbody tr th:only-of-type {\n",
       "        vertical-align: middle;\n",
       "    }\n",
       "\n",
       "    .dataframe tbody tr th {\n",
       "        vertical-align: top;\n",
       "    }\n",
       "\n",
       "    .dataframe thead th {\n",
       "        text-align: right;\n",
       "    }\n",
       "</style>\n",
       "<table border=\"1\" class=\"dataframe\">\n",
       "  <thead>\n",
       "    <tr style=\"text-align: right;\">\n",
       "      <th></th>\n",
       "      <th>PRODUCT_NUMBER</th>\n",
       "      <th>UNIT_SALE_PRICE</th>\n",
       "    </tr>\n",
       "  </thead>\n",
       "  <tbody>\n",
       "    <tr>\n",
       "      <th>88</th>\n",
       "      <td>12</td>\n",
       "      <td>650.89</td>\n",
       "    </tr>\n",
       "    <tr>\n",
       "      <th>89</th>\n",
       "      <td>12</td>\n",
       "      <td>573.88</td>\n",
       "    </tr>\n",
       "    <tr>\n",
       "      <th>91</th>\n",
       "      <td>12</td>\n",
       "      <td>620.21</td>\n",
       "    </tr>\n",
       "    <tr>\n",
       "      <th>92</th>\n",
       "      <td>12</td>\n",
       "      <td>637.61</td>\n",
       "    </tr>\n",
       "    <tr>\n",
       "      <th>95</th>\n",
       "      <td>13</td>\n",
       "      <td>532.26</td>\n",
       "    </tr>\n",
       "    <tr>\n",
       "      <th>...</th>\n",
       "      <td>...</td>\n",
       "      <td>...</td>\n",
       "    </tr>\n",
       "    <tr>\n",
       "      <th>37738</th>\n",
       "      <td>102</td>\n",
       "      <td>590.46</td>\n",
       "    </tr>\n",
       "    <tr>\n",
       "      <th>37742</th>\n",
       "      <td>104</td>\n",
       "      <td>516.65</td>\n",
       "    </tr>\n",
       "    <tr>\n",
       "      <th>37743</th>\n",
       "      <td>105</td>\n",
       "      <td>889.45</td>\n",
       "    </tr>\n",
       "    <tr>\n",
       "      <th>37745</th>\n",
       "      <td>107</td>\n",
       "      <td>814.53</td>\n",
       "    </tr>\n",
       "    <tr>\n",
       "      <th>37747</th>\n",
       "      <td>108</td>\n",
       "      <td>661.09</td>\n",
       "    </tr>\n",
       "  </tbody>\n",
       "</table>\n",
       "<p>1071 rows × 2 columns</p>\n",
       "</div>"
      ],
      "text/plain": [
       "       PRODUCT_NUMBER  UNIT_SALE_PRICE\n",
       "88                 12           650.89\n",
       "89                 12           573.88\n",
       "91                 12           620.21\n",
       "92                 12           637.61\n",
       "95                 13           532.26\n",
       "...               ...              ...\n",
       "37738             102           590.46\n",
       "37742             104           516.65\n",
       "37743             105           889.45\n",
       "37745             107           814.53\n",
       "37747             108           661.09\n",
       "\n",
       "[1071 rows x 2 columns]"
      ]
     },
     "execution_count": 508,
     "metadata": {},
     "output_type": "execute_result"
    }
   ],
   "source": [
    "#Merged_Orderdetails = order_details.merge(returned_item, on='ORDER_DETAIL_CODE')\n",
    "#Merged_Orderdetails2 = Merged_Orderdetails.merge(product, on='PRODUCT_NUMBER')\n",
    "#Producten500 = Merged_Orderdetails2[Merged_Orderdetails2['UNIT_SALE_PRICE'] > 500]\n",
    "#ItemsNotReturned = Producten500[Producten500['ORDER_DETAIL_CODE'].isna()]\n",
    "#Resultaat333 = ItemsNotReturned[['PRODUCT_NAME', ]]\n",
    "#Resultaat333\n",
    "\n",
    "Product500 = order_details[order_details['UNIT_SALE_PRICE'] > 500]\n",
    "Gererourneed = set(returned_item['ORDER_DETAIL_CODE'])\n",
    "ItemsNotReturned = Product500[~Product500['ORDER_DETAIL_CODE'].isin(Gererourneed)]\n",
    "Resultaat44 = ItemsNotReturned[['PRODUCT_NUMBER','UNIT_SALE_PRICE']].drop_duplicates()\n",
    "Resultaat44\n",
    "\n",
    "\n",
    "\n",
    "\n",
    "\n",
    "\n"
   ]
  },
  {
   "cell_type": "markdown",
   "metadata": {},
   "source": [
    "Geef een overzicht met daarin per (achternaam van) medewerker of hij/zij manager is of niet, door deze informatie toe te voegen als extra 'Ja/Nee'-kolom.<br>\n",
    "Hint: gebruik een for-loop waarin je o.a. bepaalt of het woord 'Manager' in de functie (position_en) staat. (2 kolommen, 102 rijen)."
   ]
  },
  {
   "cell_type": "code",
   "execution_count": 509,
   "metadata": {},
   "outputs": [
    {
     "data": {
      "text/html": [
       "<div>\n",
       "<style scoped>\n",
       "    .dataframe tbody tr th:only-of-type {\n",
       "        vertical-align: middle;\n",
       "    }\n",
       "\n",
       "    .dataframe tbody tr th {\n",
       "        vertical-align: top;\n",
       "    }\n",
       "\n",
       "    .dataframe thead th {\n",
       "        text-align: right;\n",
       "    }\n",
       "</style>\n",
       "<table border=\"1\" class=\"dataframe\">\n",
       "  <thead>\n",
       "    <tr style=\"text-align: right;\">\n",
       "      <th></th>\n",
       "      <th>index</th>\n",
       "      <th>FIRST_NAME</th>\n",
       "      <th>is_manager</th>\n",
       "    </tr>\n",
       "  </thead>\n",
       "  <tbody>\n",
       "    <tr>\n",
       "      <th>0</th>\n",
       "      <td>0</td>\n",
       "      <td>Denis</td>\n",
       "      <td>Ja</td>\n",
       "    </tr>\n",
       "    <tr>\n",
       "      <th>1</th>\n",
       "      <td>1</td>\n",
       "      <td>Élizabeth</td>\n",
       "      <td>Nee</td>\n",
       "    </tr>\n",
       "    <tr>\n",
       "      <th>2</th>\n",
       "      <td>2</td>\n",
       "      <td>Émile</td>\n",
       "      <td>Nee</td>\n",
       "    </tr>\n",
       "    <tr>\n",
       "      <th>3</th>\n",
       "      <td>3</td>\n",
       "      <td>Étienne</td>\n",
       "      <td>Nee</td>\n",
       "    </tr>\n",
       "    <tr>\n",
       "      <th>4</th>\n",
       "      <td>4</td>\n",
       "      <td>Elsbeth</td>\n",
       "      <td>Nee</td>\n",
       "    </tr>\n",
       "    <tr>\n",
       "      <th>...</th>\n",
       "      <td>...</td>\n",
       "      <td>...</td>\n",
       "      <td>...</td>\n",
       "    </tr>\n",
       "    <tr>\n",
       "      <th>97</th>\n",
       "      <td>97</td>\n",
       "      <td>Giele</td>\n",
       "      <td>Nee</td>\n",
       "    </tr>\n",
       "    <tr>\n",
       "      <th>98</th>\n",
       "      <td>98</td>\n",
       "      <td>François</td>\n",
       "      <td>Nee</td>\n",
       "    </tr>\n",
       "    <tr>\n",
       "      <th>99</th>\n",
       "      <td>99</td>\n",
       "      <td>Yvette</td>\n",
       "      <td>Nee</td>\n",
       "    </tr>\n",
       "    <tr>\n",
       "      <th>100</th>\n",
       "      <td>100</td>\n",
       "      <td>Willi</td>\n",
       "      <td>Nee</td>\n",
       "    </tr>\n",
       "    <tr>\n",
       "      <th>101</th>\n",
       "      <td>101</td>\n",
       "      <td>Sabine</td>\n",
       "      <td>Nee</td>\n",
       "    </tr>\n",
       "  </tbody>\n",
       "</table>\n",
       "<p>102 rows × 3 columns</p>\n",
       "</div>"
      ],
      "text/plain": [
       "     index FIRST_NAME is_manager\n",
       "0        0      Denis         Ja\n",
       "1        1  Élizabeth        Nee\n",
       "2        2      Émile        Nee\n",
       "3        3    Étienne        Nee\n",
       "4        4    Elsbeth        Nee\n",
       "..     ...        ...        ...\n",
       "97      97      Giele        Nee\n",
       "98      98   François        Nee\n",
       "99      99     Yvette        Nee\n",
       "100    100      Willi        Nee\n",
       "101    101     Sabine        Nee\n",
       "\n",
       "[102 rows x 3 columns]"
      ]
     },
     "execution_count": 509,
     "metadata": {},
     "output_type": "execute_result"
    }
   ],
   "source": [
    "sales_staff = pd.DataFrame(sales_staff)\n",
    "\n",
    "# Voeg de kolom 'is_manager' toe\n",
    "sales_staff['is_manager'] = sales_staff['POSITION_EN'].apply(lambda x: 'Ja' if 'Manager' in x else 'Nee')\n",
    "\n",
    "# Reset de index en voeg de oude index toe als een kolom\n",
    "sales_staff_reset = sales_staff.reset_index()\n",
    "\n",
    "# Maak een nieuwe DataFrame met alleen de gewenste kolommen\n",
    "result_df = sales_staff_reset[['index', 'FIRST_NAME', 'is_manager']]\n",
    "\n",
    "# Print de nieuwe DataFrame\n",
    "result_df"
   ]
  },
  {
   "cell_type": "markdown",
   "metadata": {},
   "source": [
    "Met de onderstaande code laat je Python het huidige jaar uitrekenen."
   ]
  },
  {
   "cell_type": "code",
   "execution_count": 510,
   "metadata": {},
   "outputs": [
    {
     "data": {
      "text/plain": [
       "2025"
      ]
     },
     "execution_count": 510,
     "metadata": {},
     "output_type": "execute_result"
    }
   ],
   "source": [
    "from datetime import date\n",
    "date.today().year"
   ]
  },
  {
   "cell_type": "markdown",
   "metadata": {},
   "source": [
    "Met de onderstaande code selecteer je op een bepaald jaartal uit een datum."
   ]
  },
  {
   "cell_type": "code",
   "execution_count": 511,
   "metadata": {},
   "outputs": [
    {
     "data": {
      "text/plain": [
       "2013"
      ]
     },
     "execution_count": 511,
     "metadata": {},
     "output_type": "execute_result"
    }
   ],
   "source": [
    "from datetime import datetime\n",
    "\n",
    "date_str = '16-8-2013'\n",
    "date_format = '%d-%m-%Y'\n",
    "date_obj = datetime.strptime(date_str, date_format)\n",
    "\n",
    "date_obj.year"
   ]
  },
  {
   "cell_type": "markdown",
   "metadata": {},
   "source": [
    "Geef met behulp van bovenstaande hulpcode een overzicht met daarin op basis van het aantal jaar dat iemand in dienst is of een medewerker ‘kort in dienst’ (minder dan 25 jaar in dienst) of een ‘lang in dienst’ (groter gelijk dan 12 jaar in dienst) is. Geef daarbij per medewerker in een aparte kolom zowel ‘kort in dienst’ als ‘lang in dienst’ aan. Gebruik (wederom) een for-loop.<br>\n",
    "(2 kolommen, 102 rijen) "
   ]
  },
  {
   "cell_type": "code",
   "execution_count": 522,
   "metadata": {},
   "outputs": [
    {
     "data": {
      "text/html": [
       "<div>\n",
       "<style scoped>\n",
       "    .dataframe tbody tr th:only-of-type {\n",
       "        vertical-align: middle;\n",
       "    }\n",
       "\n",
       "    .dataframe tbody tr th {\n",
       "        vertical-align: top;\n",
       "    }\n",
       "\n",
       "    .dataframe thead th {\n",
       "        text-align: right;\n",
       "    }\n",
       "</style>\n",
       "<table border=\"1\" class=\"dataframe\">\n",
       "  <thead>\n",
       "    <tr style=\"text-align: right;\">\n",
       "      <th></th>\n",
       "      <th>Korte In Dienst</th>\n",
       "      <th>Lange In Dienst</th>\n",
       "    </tr>\n",
       "  </thead>\n",
       "  <tbody>\n",
       "    <tr>\n",
       "      <th>0</th>\n",
       "      <td>Nee</td>\n",
       "      <td>Ja</td>\n",
       "    </tr>\n",
       "    <tr>\n",
       "      <th>1</th>\n",
       "      <td>Nee</td>\n",
       "      <td>Ja</td>\n",
       "    </tr>\n",
       "    <tr>\n",
       "      <th>2</th>\n",
       "      <td>Nee</td>\n",
       "      <td>Ja</td>\n",
       "    </tr>\n",
       "    <tr>\n",
       "      <th>3</th>\n",
       "      <td>Nee</td>\n",
       "      <td>Ja</td>\n",
       "    </tr>\n",
       "    <tr>\n",
       "      <th>4</th>\n",
       "      <td>Nee</td>\n",
       "      <td>Ja</td>\n",
       "    </tr>\n",
       "    <tr>\n",
       "      <th>...</th>\n",
       "      <td>...</td>\n",
       "      <td>...</td>\n",
       "    </tr>\n",
       "    <tr>\n",
       "      <th>97</th>\n",
       "      <td>Nee</td>\n",
       "      <td>Ja</td>\n",
       "    </tr>\n",
       "    <tr>\n",
       "      <th>98</th>\n",
       "      <td>Nee</td>\n",
       "      <td>Ja</td>\n",
       "    </tr>\n",
       "    <tr>\n",
       "      <th>99</th>\n",
       "      <td>Nee</td>\n",
       "      <td>Ja</td>\n",
       "    </tr>\n",
       "    <tr>\n",
       "      <th>100</th>\n",
       "      <td>Nee</td>\n",
       "      <td>Ja</td>\n",
       "    </tr>\n",
       "    <tr>\n",
       "      <th>101</th>\n",
       "      <td>Nee</td>\n",
       "      <td>Ja</td>\n",
       "    </tr>\n",
       "  </tbody>\n",
       "</table>\n",
       "<p>102 rows × 2 columns</p>\n",
       "</div>"
      ],
      "text/plain": [
       "    Korte In Dienst Lange In Dienst\n",
       "0               Nee              Ja\n",
       "1               Nee              Ja\n",
       "2               Nee              Ja\n",
       "3               Nee              Ja\n",
       "4               Nee              Ja\n",
       "..              ...             ...\n",
       "97              Nee              Ja\n",
       "98              Nee              Ja\n",
       "99              Nee              Ja\n",
       "100             Nee              Ja\n",
       "101             Nee              Ja\n",
       "\n",
       "[102 rows x 2 columns]"
      ]
     },
     "execution_count": 522,
     "metadata": {},
     "output_type": "execute_result"
    }
   ],
   "source": [
    "import pandas as pd\n",
    "from datetime import datetime\n",
    "\n",
    "# Aangenomen dat sales_staff al een dataset is met een 'DATE_HIRED' kolom\n",
    "sales = pd.DataFrame(sales_staff)\n",
    "\n",
    "# Functie om het aantal jaren in dienst te berekenen\n",
    "def jaren_in_dienst(DATE_HIRED):\n",
    "    DATE_HIRED_obj = datetime.strptime(DATE_HIRED, '%Y-%m-%d')\n",
    "    huidig_jaar = datetime.today().year\n",
    "    return huidig_jaar - DATE_HIRED_obj.year\n",
    "\n",
    "# Bereken jaren in dienst en voeg deze toe als een nieuwe kolom\n",
    "sales['JAREN IN DIENDS'] = sales['DATE_HIRED'].apply(jaren_in_dienst)\n",
    "\n",
    "# Maak kolommen 'Korte In Dienst' en 'Lange In Dienst' op basis van de dienstjaren\n",
    "sales['Korte In Dienst'] = sales['JAREN IN DIENDS'].apply(lambda x: 'Ja' if x < 11 else 'Nee')\n",
    "sales['Lange In Dienst'] = sales['JAREN IN DIENDS'].apply(lambda x: 'Ja' if x >= 12 else 'Nee')\n",
    "\n",
    "# Filteren van medewerkers met zowel 'Korte In Dienst' als 'Lange In Dienst' gelijk aan 'Ja'\n",
    "sales2 = sales[(sales['Korte In Dienst'] == 'Ja') | (sales['Lange In Dienst'] == 'Ja')].reset_index()\n",
    "\n",
    "sales2 = sales2[['Korte In Dienst', 'Lange In Dienst']]\n",
    "\n",
    "# Toon het resultaat\n",
    "sales2\n"
   ]
  },
  {
   "cell_type": "markdown",
   "metadata": {},
   "source": [
    "## Van Jupyter Notebook naar Pythonproject"
   ]
  },
  {
   "cell_type": "markdown",
   "metadata": {},
   "source": [
    "1. Richt de map waarin jullie tot nu toe hebben gewerkt in volgens de mappenstructuur uit de slides.\n",
    "2. Maak van de ontstane mappenstructuur een Pythonproject dat uitvoerbaar is vanuit de terminal. Maak daarin een .py-bestand dat minstens 5 antwoorden uit dit notebook (in de vorm van een DataFrame) exporteert naar Excelbestanden. Alle notebooks mogen als notebook blijven bestaan.\n",
    "3. Zorg ervoor dat dit Pythonproject zijn eigen repo heeft op Github. Let op: je virtual environment moet <b><u>niet</u></b> meegaan naar Github.\n",
    "\n",
    "Je mag tijdens dit proces je uit stap 1 ontstane mappenstructuur aanpassen, zolang je bij het beoordelingsmoment kan verantwoorden wat de motivatie hierachter is. De slides verplichten je dus nergens toe."
   ]
  }
 ],
 "metadata": {
  "kernelspec": {
   "display_name": ".venv",
   "language": "python",
   "name": "python3"
  },
  "language_info": {
   "codemirror_mode": {
    "name": "ipython",
    "version": 3
   },
   "file_extension": ".py",
   "mimetype": "text/x-python",
   "name": "python",
   "nbconvert_exporter": "python",
   "pygments_lexer": "ipython3",
   "version": "3.13.2"
  }
 },
 "nbformat": 4,
 "nbformat_minor": 2
}
