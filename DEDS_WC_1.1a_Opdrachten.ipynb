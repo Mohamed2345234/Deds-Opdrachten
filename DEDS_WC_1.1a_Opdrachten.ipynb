{
 "cells": [
  {
   "cell_type": "markdown",
   "metadata": {},
   "source": [
    "# Werkcollege-opdrachten Week 1.1"
   ]
  },
  {
   "cell_type": "markdown",
   "metadata": {},
   "source": [
    "## Maak een virtual environment"
   ]
  },
  {
   "cell_type": "markdown",
   "metadata": {},
   "source": [
    "Zorg dat je met behulp van de handleiding *Bouw en gebruik van virtual environments - Handleiding* een virtual environment hebt gemaakt, dat jou en je duopartner garandeert altijd dezelfde versie van geïmporteerde dependencies te gebruiken.<br>\n",
    "Voeg hier vervolgens met *poetry add pandas* de pandas-dependency aan toe.<br>\n",
    "Als je dit allemaal goed hebt gedaan moet de onderstaande code bij jullie allebei succesvol runnen:"
   ]
  },
  {
   "cell_type": "code",
   "execution_count": null,
   "metadata": {},
   "outputs": [],
   "source": [
    "import pandas as pd"
   ]
  },
  {
   "cell_type": "markdown",
   "metadata": {},
   "source": [
    "Zorg er daarnaast voor dat je...\n",
    "- Het bestand Waarheidstabel.png in dezelfde map als dit notebook hebt staan.\n",
    "- Het bestand Prinstabel.png in dezelfde map als dit notebook hebt staan.\n",
    "- Alle informatie onder het kopje *Basisoperaties* van de cheatsheet *Van Java naar Python - Cheatsheet* (zie Brightspace) bij de hand hebt."
   ]
  },
  {
   "cell_type": "markdown",
   "metadata": {},
   "source": [
    "## 1.1: Output, variabelen en input"
   ]
  },
  {
   "cell_type": "markdown",
   "metadata": {},
   "source": [
    "Geef code waarmee het volgende op het scherm komt te staan:<br>\n",
    "geef me je geld <br>\n",
    "of ik gebruik geweld, <br>\n",
    "toen kwam de controle aangesneld"
   ]
  },
  {
   "cell_type": "code",
   "execution_count": 2,
   "metadata": {},
   "outputs": [
    {
     "name": "stdout",
     "output_type": "stream",
     "text": [
      "geef me je geld\n",
      "of ik gebruiik geweld\n",
      "toen kwam de controle aangesneld\n"
     ]
    }
   ],
   "source": [
    "print(\"geef me je geld\");\n",
    "print(\"of ik gebruiik geweld\");\n",
    "print(\"toen kwam de controle aangesneld\");"
   ]
  },
  {
   "cell_type": "markdown",
   "metadata": {},
   "source": [
    "Declareer 2 variabelen zodat de volgende tekst geprint wordt:<br>\n",
    "Apenhoofd<br>\n",
    "Paardenstaart"
   ]
  },
  {
   "cell_type": "code",
   "execution_count": 3,
   "metadata": {},
   "outputs": [
    {
     "name": "stdout",
     "output_type": "stream",
     "text": [
      "Apenhoofd\n",
      "Paardenstaart\n"
     ]
    }
   ],
   "source": [
    "naam1 = \"Apenhoofd\";\n",
    "naam2 = \"Paardenstaart\";\n",
    "print(naam1);\n",
    "print(naam2)"
   ]
  },
  {
   "cell_type": "markdown",
   "metadata": {},
   "source": [
    "Voeg code toe zodat het programma het volgende doet:<br>\n",
    "1): Op het scherm komt A, B, C, D, ..., F, G te staan<br>\n",
    "2): De gebruiker voert een letter in<br>\n",
    "3): Op het scherm komt te staan:<br>\n",
    "Het is inderdaad:<br>\n",
    "*ingevoerde letter*"
   ]
  },
  {
   "cell_type": "code",
   "execution_count": 30,
   "metadata": {},
   "outputs": [
    {
     "name": "stdout",
     "output_type": "stream",
     "text": [
      "A B C D E F G\n",
      "A\n",
      "Het is inderdaad\n"
     ]
    }
   ],
   "source": [
    "print('A','B','C','D','E','F','G');\n",
    "\n",
    "char = input();\n",
    "\n",
    "print(char)\n",
    "\n",
    "if char in ( 'A'or'B'or'C'or'D'or'E'or'F'or'G'):\n",
    "    print(\"Het is inderdaad\");\n",
    "else:\n",
    "    print(\"Ongeldige invoer\")"
   ]
  },
  {
   "cell_type": "markdown",
   "metadata": {},
   "source": [
    "## 1.2: Stringconcatenatie en Rekenen"
   ]
  },
  {
   "cell_type": "markdown",
   "metadata": {},
   "source": [
    "Schrijf code dat een inkomen inleest en het volgende uitprint:<br>\n",
    "Uw inkomen (*ingelezen inkomen*) is zeer acceptabel."
   ]
  },
  {
   "cell_type": "code",
   "execution_count": null,
   "metadata": {},
   "outputs": [
    {
     "name": "stdout",
     "output_type": "stream",
     "text": [
      "Jammer\n"
     ]
    }
   ],
   "source": [
    "inkomen = int(input());\n",
    "\n",
    "if inkomen >= 5000:\n",
    "    print(\"inkomen zeer acceptable\");\n",
    "else: \n",
    "    print(\"Jammer, je komt er wel ooit\");"
   ]
  },
  {
   "cell_type": "markdown",
   "metadata": {},
   "source": [
    "De oppervlakte van een driehoek is 1/2 * hoogte * basis<br>\n",
    "Schrijf code zodat het programma het volgende doet:<br>\n",
    "1): Op het scherm komt Wat is de basis? te staan<br>\n",
    "2): De gebruiker voert een basis in<br>\n",
    "3): Op het scherm komt Wat is de hoogte? te staan<br>\n",
    "4): De gebruiker voert een hoogte in<br>\n",
    "5): Op het scherm komt: De oppervlakte van de driehoek is *berekende oppervlakte* te staan"
   ]
  },
  {
   "cell_type": "code",
   "execution_count": 38,
   "metadata": {},
   "outputs": [
    {
     "name": "stdout",
     "output_type": "stream",
     "text": [
      "Wat is de basis\n",
      "basis is  5\n",
      "Wat is de hoogte\n",
      "hoogte is  5\n",
      "De opppervlakte van de driehoek is 12.5 .\n"
     ]
    }
   ],
   "source": [
    "print(\"Wat is de basis\");\n",
    "basis = int(input());\n",
    "\n",
    "print(\"basis is \", basis)\n",
    "\n",
    "print(\"Wat is de hoogte\");\n",
    "hoogte = int(input());\n",
    "\n",
    "print(\"hoogte is \" ,hoogte)\n",
    "\n",
    "driehoekBerekent = 0.5 * hoogte * basis;\n",
    "\n",
    "print(\"De opppervlakte van de driehoek is\", driehoekBerekent , \".\");\n"
   ]
  },
  {
   "cell_type": "markdown",
   "metadata": {},
   "source": [
    "## 1.3: if() en booleans"
   ]
  },
  {
   "cell_type": "markdown",
   "metadata": {},
   "source": [
    "Schrijf code dat het volgende doet:<br>\n",
    "1): De gebruiker voert in hoe oud iemand is<br>\n",
    "2): De gebruiker voert in of de ouders meegekomen zijn (input is J of N)<br><br>\n",
    "\n",
    "Als...\n",
    "- Jonger dan 6, wel ouders: op het scherm staat Je mag het zwembad in\n",
    "- Jonger dan 6, geen ouders: op het scherm staat Je mag het niet zwembad in\n",
    "- Leeftijd vanaf 6, geen ouders: op het scherm staat Je mag het zwembad in als je een diploma hebt\n",
    "- Leeftijd vanaf 6, wel ouders: op het scherm staat Waarom neem je nog je ouders mee?"
   ]
  },
  {
   "cell_type": "code",
   "execution_count": null,
   "metadata": {},
   "outputs": [
    {
     "name": "stdout",
     "output_type": "stream",
     "text": [
      "hoe oud ben je\n",
      "Leeftijd is  6\n",
      "ouders mee ja of Nee J\n",
      "Waarom neem je nog je ouders mee\n"
     ]
    }
   ],
   "source": [
    "print(\"hoe oud ben je\");\n",
    "age = int(input());\n",
    "\n",
    "print(\"Leeftijd is \", age)\n",
    "\n",
    "oudersMee = input();\n",
    "\n",
    "print(\"ouders mee ja of Nee:\", oudersMee)\n",
    "\n",
    "if age < 6 and oudersMee == 'J': \n",
    "    print(\"Je mag wel zwembad in\");\n",
    "elif age < 6 and oudersMee == 'N': \n",
    "    print(\"Je mag niet zwembad in\");\n",
    "elif age >= 6 and oudersMee == 'N': \n",
    "    print(\"Je mag wel zwembad in als je diploma hebt\");\n",
    "elif age >= 6 and oudersMee == 'J': \n",
    "    print(\"Waarom neem je nog je ouders mee\");\n",
    "else:\n",
    "    print(\"Ongeldige invoer probeer nogmaals\");\n"
   ]
  },
  {
   "cell_type": "markdown",
   "metadata": {},
   "source": [
    "Schrijf code zodat de boolean-variabelen een en twee aangemaakt worden en waarmee de juiste waarde in de boolean-variabele uitkomst komt te staan. In de waarheidstabel hieronder staat wat de waarde van uitkomst is bij de verschillende mogelijke combinaties van een en twee.<br><br>\n",
    "<img src=\"Waarheidstabel.png\">"
   ]
  },
  {
   "cell_type": "code",
   "execution_count": 48,
   "metadata": {},
   "outputs": [
    {
     "name": "stdout",
     "output_type": "stream",
     "text": [
      "True\n"
     ]
    }
   ],
   "source": [
    "booleon = False;\n",
    "booleon2 = True;\n",
    "\n",
    "\n",
    "if booleon == True and booleon2 == True: \n",
    "    uitkomst = True;\n",
    "elif booleon == True and booleon2 == False: \n",
    "    uitkomst = False;\n",
    "elif booleon == False or booleon2 == True: \n",
    "    uitkomst = True;\n",
    "elif booleon == False and booleon2 == False: \n",
    "    uitkomst = True;\n",
    "\n",
    "print(uitkomst);\n",
    "\n"
   ]
  },
  {
   "cell_type": "markdown",
   "metadata": {},
   "source": [
    "## 1.4: Methoden"
   ]
  },
  {
   "cell_type": "markdown",
   "metadata": {},
   "source": [
    "Schrijf een methode wachtwoord die als parameters twee woorden meekrijgt en het volgende controleert:\n",
    "- Als de woorden gelijk zijn, print het programma gelijk.\n",
    "- Als de woorden ongelijk zijn print het programma ongelijk.\n",
    "\n",
    "Vergeet niet dat je de methode niet alleen aan moet maken, maar ook aan moet roepen om output te krijgen."
   ]
  },
  {
   "cell_type": "code",
   "execution_count": 1,
   "metadata": {},
   "outputs": [
    {
     "name": "stdout",
     "output_type": "stream",
     "text": [
      "gelijk\n"
     ]
    }
   ],
   "source": [
    "def Wachtwoord(woord1, woord2):\n",
    "    if woord1 == woord2:\n",
    "        print(\"gelijk\")\n",
    "    else:\n",
    "        print(\"ongelijk\")\n",
    "\n",
    "\n",
    "woord1 = input(\"Voer het eerste woord in: \")\n",
    "woord2 = input(\"Voer het tweede woord in: \")\n",
    "\n",
    "\n",
    "Wachtwoord(woord1, woord2)"
   ]
  },
  {
   "cell_type": "markdown",
   "metadata": {},
   "source": [
    "Schrijf de methode zoekPrins die als parameter een prinses meekrijgt en vervolgens de bijbehorende prins teruggeeft, volgens de volgende tabel:<br><br>\n",
    "<img src=\"Prinstabel.png\"><br>\n",
    "Als de naam van de prinses niet in de tabel staat wordt het volgende door de methode teruggegeven: naamloos.<br>\n",
    "Roep ten slotte de gemaakte methode ook daadwerkelijk aan met een zelfgekozen prinsessennaam."
   ]
  },
  {
   "cell_type": "code",
   "execution_count": 6,
   "metadata": {},
   "outputs": [
    {
     "name": "stdout",
     "output_type": "stream",
     "text": [
      "Aladin\n"
     ]
    }
   ],
   "source": [
    "def ZoekPrins(prinses):\n",
    "\n",
    "    prinsessen = {\n",
    "    'Aurora': 'Philip',\n",
    "    'Ariel' : 'Eric',\n",
    "    'Jasmine': 'Aladin',\n",
    "    'Pocahontas' : 'John',\n",
    "    'Belle' : 'Beast',\n",
    "    'Tiana': 'Naveen',\n",
    "    'Mulan' : 'Shang'\n",
    "\n",
    "}\n",
    "    if prinses in prinsessen: \n",
    "        return prinsessen[prinses]\n",
    "    else:\n",
    "        return \"Geen prins gevonden\"\n",
    "    \n",
    "print(ZoekPrins(\"Jasmine\"))\n",
    "       "
   ]
  },
  {
   "cell_type": "markdown",
   "metadata": {},
   "source": [
    "## 1.5: While"
   ]
  },
  {
   "cell_type": "markdown",
   "metadata": {},
   "source": [
    "Schrijf de inhoud van de methode wachtwoord. Deze heeft geen parameters en laat de gebruiker twee wachtwoorden invoeren, waarna hij bekijkt of deze gelijk zijn. Zolang dat niet het geval is wordt er eerst Fout, probeer het opnieuw! uitgeprint en moet de gebruiker het opnieuw proberen.<br>Als de gebruiker het goed doet, komt er Succes! op het scherm te staan."
   ]
  },
  {
   "cell_type": "code",
   "execution_count": 19,
   "metadata": {},
   "outputs": [
    {
     "name": "stdout",
     "output_type": "stream",
     "text": [
      "Succes\n"
     ]
    }
   ],
   "source": [
    "def wachtwoord():\n",
    "    while True:\n",
    "        wachtwoord1 = input()\n",
    "        wachtwoord2 = input()\n",
    "\n",
    "        if wachtwoord1 == wachtwoord2:\n",
    "            print(\"Succes\")\n",
    "            break\n",
    "        else: \n",
    "            print(\"Fout Opnieuwe proberen\") \n",
    "\n",
    "wachtwoord()"
   ]
  },
  {
   "cell_type": "markdown",
   "metadata": {},
   "source": [
    "Schrijf de inhoud van de methode tafels. De methode print alle tafels vanaf 1 (dus inclusief de tafel van 1) tot en met de tafel van het meegekregen getal (dus inclusief de tafel van getal).  Zet een witregel tussen alle tafels in. <br>\n",
    "Let op:\n",
    "- Gebruik een while-loop\n",
    "- Gebruik de reeds geschreven methode tafel om een tafel uit te printen"
   ]
  },
  {
   "cell_type": "code",
   "execution_count": 41,
   "metadata": {},
   "outputs": [
    {
     "name": "stdout",
     "output_type": "stream",
     "text": [
      "1 x 1 = 1\n",
      "\n",
      "2 x 1 = 2\n",
      "\n",
      "3 x 1 = 3\n",
      "\n",
      "4 x 1 = 4\n",
      "\n",
      "5 x 1 = 5\n",
      "\n",
      "\n"
     ]
    }
   ],
   "source": [
    "def tafel(getal: int, grens: int):\n",
    "    teller: int = 1\n",
    "\n",
    "    while(teller <= grens):\n",
    "        print(f'{teller} x {getal} = {teller * getal}')\n",
    "        print()\n",
    "        teller += 1\n",
    "\n",
    "def tafels(getal: int):\n",
    "    x: int = 1\n",
    "\n",
    "    while x <= getal:\n",
    "        tafel(x,getal)\n",
    "        print()\n",
    "        x += 1\n",
    "        break\n",
    "\n",
    "getal: int = int(input())\n",
    "\n",
    "tafels(getal)"
   ]
  },
  {
   "cell_type": "markdown",
   "metadata": {},
   "source": [
    "## For-loop"
   ]
  },
  {
   "cell_type": "markdown",
   "metadata": {},
   "source": [
    "Vervang de while-loop door een werkende for-loop. De uitkomst van het programma mag daarbij niet veranderen."
   ]
  },
  {
   "cell_type": "code",
   "execution_count": null,
   "metadata": {},
   "outputs": [
    {
     "name": "stdout",
     "output_type": "stream",
     "text": [
      "huidige getal: 0\n",
      "huidige getal: 1\n",
      "huidige getal: 2\n",
      "huidige getal: 3\n",
      "huidige getal: 4\n",
      "huidige getal: 5\n",
      "huidige getal: 6\n",
      "huidige getal: 7\n",
      "huidige getal: 8\n",
      "huidige getal: 9\n",
      "huidige getal: 10\n"
     ]
    }
   ],
   "source": [
    "def loopje():\n",
    "    aantal = 0\n",
    "\n",
    "    for aantal in range(11):\n",
    "        print(f\"huidige getal: {aantal}\")\n",
    "    \n",
    "\n",
    "loopje()"
   ]
  },
  {
   "cell_type": "markdown",
   "metadata": {},
   "source": [
    "Schrijf de methode checkEven die achtereenvolgens 12 getallen inleest en afdrukt hoe vaak het ingevoerde getal even was."
   ]
  },
  {
   "cell_type": "code",
   "execution_count": 72,
   "metadata": {},
   "outputs": [
    {
     "name": "stdout",
     "output_type": "stream",
     "text": [
      "[1, 2, 3, 4, 5, 6, 7, 8, 9, 10, 11, 12]\n",
      "6\n"
     ]
    }
   ],
   "source": [
    "def CheckEven():\n",
    "    even_Counter= 0  # Teller voor even getallen\n",
    "    number = []\n",
    "\n",
    "    for _ in range(12):  \n",
    "        getal = int(input(\"Voer een naam in: \"))  # Gebruiker invoer vragen\n",
    "        number.append(getal)\n",
    "        if getal % 2 == 0:  # Controleren of het even is\n",
    "            even_Counter += 1  # Teller ophogen als het even is\n",
    "\n",
    "    print(number)\n",
    "    print(even_Counter)  # Het aantal even getallen afdrukken\n",
    "\n",
    "CheckEven()\n"
   ]
  },
  {
   "cell_type": "markdown",
   "metadata": {},
   "source": [
    "## Objectoriëntatie"
   ]
  },
  {
   "cell_type": "markdown",
   "metadata": {},
   "source": [
    "Maak een minisysteem voor een kledingwinkel. Maak verschillende klassen voor verschillende soorten kledingstukken, waarbij sommige klassen geërfd worden van andere klassen.\n",
    "- Maak een klasse Kledingstuk aan, waarin door de constructor een merk, een maat en een prijs geïnitialiseerd worden.\n",
    "- Maak een klasse Broek en een klasse Shirt, beide erven van de klasse Kledingstuk. Voeg aan Broek een broek_type, en aan Shirt een shirt_type toe (d.m.v. constructorgebruik).\n",
    "- Maak een klasse Spijkerbroek die erft van broek en een klasse Poloshirt die erft van shirt. Voeg aan Spijkerbroek een blauwtint toe, en aan Poloshirt een kraagsoort (d.m.v. constructorgebruik).\n",
    "- Implementeer in elke klasse een beschrijf-methode, waarmee alle informatie over het betreffende kledingstuk wordt afgedrukt.\n",
    "- Maak van elke klasse een object aan en roep de beschrijfmethode aan. Controleer nauwkeurig of alles naar behoren werkt."
   ]
  },
  {
   "cell_type": "code",
   "execution_count": 9,
   "metadata": {},
   "outputs": [
    {
     "name": "stdout",
     "output_type": "stream",
     "text": [
      "Broek_type Spijker_broek 32 450\n",
      "Shirt_type vest 30 550\n",
      "Blautint 4 800 Zwart Broek_typer\n",
      "kraagsoort shirt shirt_type 1000 5\n"
     ]
    }
   ],
   "source": [
    "class KledingStuk:\n",
    "    def __init__(self, merk, maat, prijs):\n",
    "        self.merk = merk\n",
    "        self.maat = maat\n",
    "        self.prijs = prijs\n",
    "    def Beschrijf_methode(self):\n",
    "        print(self.maat, self.merk, self.prijs)\n",
    "\n",
    "        \n",
    "\n",
    "\n",
    "class Broek(KledingStuk):\n",
    "    def __init__(self, Broek_type, merk,maat,prijs):\n",
    "        super(). __init__(merk, maat, prijs)\n",
    "        self.Broek_type = Broek_type\n",
    "    def Beschrijf_methode(self):\n",
    "        print(self.Broek_type,self.maat, self.merk, self.prijs)\n",
    "\n",
    "class Shirt(KledingStuk):\n",
    "    def __init__ (self, Shirt_type, maat, merk, prijs):\n",
    "        super().__init__(maat, merk, prijs)\n",
    "        self.Shirt_type = Shirt_type\n",
    "    def Beschrijf_methode(self):\n",
    "        print(self.Shirt_type,self.maat, self.merk, self.prijs)\n",
    "\n",
    "\n",
    "class SpijkerBroek(Broek):\n",
    "    def __init__(self, Broek_type,maat, merk, prijs, blauwtint):\n",
    "        super().__init__(maat,merk,prijs,Broek_type)\n",
    "        self.blauwtint = blauwtint\n",
    "    def Beschrijf_methode(self):\n",
    "        print(self.blauwtint, self.Broek_type, self.maat,self.merk, self.prijs)\n",
    "\n",
    "class PoloShirt(Shirt):\n",
    "    def __init__(self, merk,maat,prijs,Shirt_type,kraagsoort):\n",
    "        super().__init__(maat,merk,prijs,Shirt_type)\n",
    "        self.kraagsoort = kraagsoort\n",
    "    def Beschrijf_methode(self):\n",
    "        print(self.kraagsoort,self.maat,self.merk,self.prijs,self.Shirt_type)\n",
    "\n",
    "\n",
    "broek = Broek(\"Broek_type\",32,\"Spijker_broek\", 450)\n",
    "spijkerBroek = SpijkerBroek(\"Broek_typer\",4,\"Zwart\",800,\"Blautint\")\n",
    "shirt = Shirt(\"Shirt_type\",30,\"vest\", 550)\n",
    "poloshirt = PoloShirt(\"shirt_type\",5,\"shirt\",1000,\"kraagsoort\")\n",
    "\n",
    "\n",
    "broek.Beschrijf_methode()\n",
    "shirt.Beschrijf_methode()\n",
    "spijkerBroek.Beschrijf_methode()\n",
    "poloshirt.Beschrijf_methode()\n"
   ]
  },
  {
   "cell_type": "markdown",
   "metadata": {},
   "source": [
    "Opmerking: in themaweken 2 t/m 8 ga je objectoriëntatie waarschijnlijk veel minder vaak gebruiken dan de andere boven- en ondergenoemde programmeertechnieken.<br>\n",
    "Maar let op: in themaweken 9 en 10 komt objectoriëntatie <b><u>uitvoerig</u></b> aan de orde. Zorg dus dat je deze kennis niet vergeet!"
   ]
  },
  {
   "cell_type": "markdown",
   "metadata": {},
   "source": [
    "## Verzamelingen"
   ]
  },
  {
   "cell_type": "markdown",
   "metadata": {},
   "source": [
    "Kijk nu naar alle info onder het kopje *Verzamelingen* van de cheatsheet *Van Java naar Python - Cheatsheet*."
   ]
  },
  {
   "cell_type": "markdown",
   "metadata": {},
   "source": [
    "Initialiseer een lijst met de naam mijn_lijst met de volgende waarden:<br>\n",
    "Jelle, Marleen, Henk, Fatima, Jelle, Henk"
   ]
  },
  {
   "cell_type": "code",
   "execution_count": 10,
   "metadata": {},
   "outputs": [
    {
     "name": "stdout",
     "output_type": "stream",
     "text": [
      "['Jelle', 'Marleen', 'Henk', 'Fatima', 'Jelle', 'Henk']\n"
     ]
    }
   ],
   "source": [
    "mijn_lijst = [\"Jelle\", \"Marleen\", \"Henk\", \"Fatima\", \"Jelle\", \"Henk\"]\n",
    "print(mijn_lijst)"
   ]
  },
  {
   "cell_type": "markdown",
   "metadata": {},
   "source": [
    "Probeer nu de eerste waarde uit te lijst te veranderen in een naam naar keuze. Lukt dat?"
   ]
  },
  {
   "cell_type": "code",
   "execution_count": 11,
   "metadata": {},
   "outputs": [
    {
     "name": "stdout",
     "output_type": "stream",
     "text": [
      "['Mohamed', 'Marleen', 'Henk', 'Fatima', 'Jelle', 'Henk']\n"
     ]
    }
   ],
   "source": [
    "mijn_lijst[0] = \"Mohamed\"\n",
    "print(mijn_lijst)"
   ]
  },
  {
   "cell_type": "markdown",
   "metadata": {},
   "source": [
    "Maak van bovengenoemde lijst nu een tupel, genaamd: mijn_tupel."
   ]
  },
  {
   "cell_type": "code",
   "execution_count": 12,
   "metadata": {},
   "outputs": [
    {
     "name": "stdout",
     "output_type": "stream",
     "text": [
      "('Jelle', 'Marleen', 'Henk', 'Fatima', 'Jelle', 'Henk')\n"
     ]
    }
   ],
   "source": [
    "mijn_tupel = (\"Jelle\", \"Marleen\", \"Henk\", \"Fatima\", \"Jelle\", \"Henk\")\n",
    "print(mijn_tupel)"
   ]
  },
  {
   "cell_type": "markdown",
   "metadata": {},
   "source": [
    "Probeer nu de eerste waarde uit te tupel te veranderen in een naam naar keuze. Lukt dat?"
   ]
  },
  {
   "cell_type": "code",
   "execution_count": 17,
   "metadata": {},
   "outputs": [
    {
     "name": "stdout",
     "output_type": "stream",
     "text": [
      "('pieter', 'Marleen', 'Henk', 'Fatima', 'Jelle', 'Henk')\n"
     ]
    }
   ],
   "source": [
    "mijn_lijst2 = list(mijn_tupel)\n",
    "\n",
    "mijn_lijst2[0] = \"pieter\"\n",
    "\n",
    "mijn_tupel = tuple(mijn_lijst2)\n",
    "\n",
    "print(mijn_tupel)"
   ]
  },
  {
   "cell_type": "markdown",
   "metadata": {},
   "source": [
    "Initialiseer een dictionary met de volgende key-value-combinaties:\n",
    "- naam: \"Jelle\"\n",
    "- leeftijd: 28\n",
    "- beroep: \"Docent\"\n",
    "- hobby: \"Volleybal\""
   ]
  },
  {
   "cell_type": "code",
   "execution_count": 18,
   "metadata": {},
   "outputs": [],
   "source": [
    "mijn_dict = {\n",
    "    \"naam\": \"Jelle\",\n",
    "    \"leeftijd\": 28,\n",
    "    \"beroep\": \"Docent\",\n",
    "    \"hobby\": \"Volleybal\"\n",
    "\n",
    "}"
   ]
  },
  {
   "cell_type": "markdown",
   "metadata": {},
   "source": [
    "Probeer nu de naam te veranderen naar een naam naar keuze. Lukt dat?"
   ]
  },
  {
   "cell_type": "code",
   "execution_count": 19,
   "metadata": {},
   "outputs": [
    {
     "name": "stdout",
     "output_type": "stream",
     "text": [
      "{'naam': 'Mohamed', 'leeftijd': 28, 'beroep': 'Docent', 'hobby': 'Volleybal'}\n"
     ]
    }
   ],
   "source": [
    "mijn_dict[\"naam\"] = \"Mohamed\"\n",
    "print(mijn_dict)"
   ]
  }
 ],
 "metadata": {
  "kernelspec": {
   "display_name": ".venv",
   "language": "python",
   "name": "python3"
  },
  "language_info": {
   "codemirror_mode": {
    "name": "ipython",
    "version": 3
   },
   "file_extension": ".py",
   "mimetype": "text/x-python",
   "name": "python",
   "nbconvert_exporter": "python",
   "pygments_lexer": "ipython3",
   "version": "3.13.2"
  }
 },
 "nbformat": 4,
 "nbformat_minor": 2
}
